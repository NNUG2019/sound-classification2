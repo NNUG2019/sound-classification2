{
 "cells": [
  {
   "cell_type": "code",
   "execution_count": 1,
   "metadata": {},
   "outputs": [
    {
     "name": "stderr",
     "output_type": "stream",
     "text": [
      "C:\\Users\\kajze\\Anaconda3\\lib\\site-packages\\ipykernel_launcher.py:27: MatplotlibDeprecationWarning: \n",
      "The frameon kwarg was deprecated in Matplotlib 3.1 and will be removed in 3.3. Use facecolor instead.\n",
      "C:\\Users\\kajze\\Anaconda3\\lib\\site-packages\\ipykernel_launcher.py:25: MatplotlibDeprecationWarning: \n",
      "The frameon kwarg was deprecated in Matplotlib 3.1 and will be removed in 3.3. Use facecolor instead.\n",
      "C:\\Users\\kajze\\Anaconda3\\lib\\site-packages\\ipykernel_launcher.py:18: RuntimeWarning: More than 20 figures have been opened. Figures created through the pyplot interface (`matplotlib.pyplot.figure`) are retained until explicitly closed and may consume too much memory. (To control this warning, see the rcParam `figure.max_open_warning`).\n"
     ]
    }
   ],
   "source": [
    "import pandas as pd\n",
    "import numpy as np\n",
    "import matplotlib.pyplot as plt\n",
    "\n",
    "from scipy.io import wavfile\n",
    "from skimage import util\n",
    "from scipy import signal\n",
    "\n",
    "outputs = pd.read_csv(r\"C:\\Users\\kajze\\Desktop\\sieci\\outputs.csv\")\n",
    "output_length = len(outputs)\n",
    "\n",
    "\n",
    "def graph_spectrogram(wav_file, hasBird):\n",
    "    \n",
    "    wavPath = r\"C:/Users/kajze/Desktop/sieci/sounds/sounds_8/\" + wav_file + \".wav\"\n",
    "    rate, data = wavfile.read(wavPath)\n",
    "    \n",
    "    fig,ax = plt.subplots(1)\n",
    "    fig.subplots_adjust(left=0,right=1,bottom=0,top=1)\n",
    "    ax.axis('off')\n",
    "    pxx, freqs, bins, im = ax.specgram(x=data, Fs=rate, noverlap=384, NFFT=512)\n",
    "    ax.axis('off')\n",
    "   \n",
    "    if hasBird == 0:\n",
    "        fig.savefig(\"C:/Users/kajze/Desktop/sieci/training/no_bird/\" + wav_file + \".jpg\", dpi=50, frameon='false')\n",
    "    else:\n",
    "        fig.savefig(\"C:/Users/kajze/Desktop/sieci/training/bird/\" + wav_file + \".jpg\", dpi=50, frameon='false')\n",
    "    \n",
    "\n",
    "\n",
    "from os import listdir\n",
    "from os.path import isfile, join\n",
    "mypath = r\"C:/Users/kajze/Desktop/sieci/sounds/sounds_8\"\n",
    "filesList = [f for f in listdir(mypath) if isfile(join(mypath, f))]\n",
    "filesListNoExt = [sub.replace('.wav', '') for sub in filesList] \n",
    "filesListNoExt\n",
    "\n",
    "\n",
    "for i in range(1000):\n",
    "    birdRow = outputs.loc[outputs['itemid'] == filesListNoExt[i]]\n",
    "    fileName = birdRow[\"itemid\"].values[0]\n",
    "    hasBird = int(birdRow[\"hasbird\"])\n",
    "    \n",
    "    \n",
    "    graph_spectrogram(fileName, hasBird)\n"
   ]
  }
 ],
 "metadata": {
  "kernelspec": {
   "display_name": "Python 3",
   "language": "python",
   "name": "python3"
  },
  "language_info": {
   "codemirror_mode": {
    "name": "ipython",
    "version": 3
   },
   "file_extension": ".py",
   "mimetype": "text/x-python",
   "name": "python",
   "nbconvert_exporter": "python",
   "pygments_lexer": "ipython3",
   "version": "3.7.4"
  }
 },
 "nbformat": 4,
 "nbformat_minor": 2
}
